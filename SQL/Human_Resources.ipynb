{
  "cells": [
    {
      "cell_type": "markdown",
      "metadata": {
        "id": "v1hPQshdAru4"
      },
      "source": [
        "# Libraries"
      ]
    },
    {
      "cell_type": "code",
      "execution_count": 1,
      "metadata": {
        "id": "Glc7mrJnAru5"
      },
      "outputs": [],
      "source": [
        "import numpy as np\n",
        "import pandas as pd\n",
        "import matplotlib.pyplot as plt\n",
        "import seaborn as sns"
      ]
    },
    {
      "cell_type": "code",
      "execution_count": 2,
      "metadata": {
        "id": "6IGeG3AzAru6"
      },
      "outputs": [],
      "source": [
        "%%capture\n",
        "\n",
        "try:\n",
        "    import duckdb\n",
        "except:\n",
        "    !pip install duckdb\n",
        "    import duckdb"
      ]
    },
    {
      "cell_type": "markdown",
      "metadata": {
        "id": "0RJ7DDb_Aru6"
      },
      "source": [
        "# Databases"
      ]
    },
    {
      "cell_type": "markdown",
      "metadata": {
        "id": "OOtGlFa_Aru6"
      },
      "source": [
        "## Loading Providing Databases"
      ]
    },
    {
      "cell_type": "code",
      "execution_count": 4,
      "metadata": {
        "id": "fy3galDYAru6"
      },
      "outputs": [],
      "source": [
        "urls = ['https://raw.githubusercontent.com/steven1174/Python_Projects/main/Datasets/HR_Departments.csv',\n",
        "        'https://raw.githubusercontent.com/steven1174/Python_Projects/main/Datasets/HR_Employees.csv',\n",
        "        'https://raw.githubusercontent.com/steven1174/Python_Projects/main/Datasets/HR_Jobs.csv',\n",
        "        'https://raw.githubusercontent.com/steven1174/Python_Projects/main/Datasets/HR_Jobs_History.csv',\n",
        "        'https://raw.githubusercontent.com/steven1174/Python_Projects/main/Datasets/HR_Locations.csv']"
      ]
    },
    {
      "cell_type": "code",
      "execution_count": 10,
      "metadata": {
        "id": "6jvXTIJrAru7"
      },
      "outputs": [],
      "source": [
        "df_deparments = pd.read_csv(urls[0])\n",
        "df_employees = pd.read_csv(urls[1])\n",
        "df_jobs = pd.read_csv(urls[2])\n",
        "df_jobs_history = pd.read_csv(urls[3])\n",
        "df_locations = pd.read_csv(urls[4])\n",
        "df = pd.DataFrame()"
      ]
    },
    {
      "cell_type": "code",
      "execution_count": 7,
      "metadata": {
        "id": "AYx4uCetAru7"
      },
      "outputs": [],
      "source": [
        "con = duckdb.connect()"
      ]
    },
    {
      "cell_type": "markdown",
      "metadata": {
        "id": "ijXB5E2BAru8"
      },
      "source": [
        "## Queries"
      ]
    },
    {
      "cell_type": "markdown",
      "metadata": {
        "id": "hAlcTZsaAru8"
      },
      "source": [
        "### Exploratory Database"
      ]
    },
    {
      "cell_type": "code",
      "execution_count": 15,
      "metadata": {
        "id": "EkoLW35EAru8"
      },
      "outputs": [],
      "source": [
        "## Basic stats from League Database\n",
        "\n",
        "query = \"\"\"\n",
        "DROP TABLE INSTRUCTOR;\n",
        "\n",
        "CREATE TABLE INSTRUCTOR(\n",
        "\tins_id INTEGER PRIMARY KEY NOT NULL,\n",
        "\tlastname VARCHAR(15) NOT NULL,\n",
        "\tfirstname VARCHAR(15) NOT NULL,\n",
        "\tcity VARCHAR(15), \n",
        "\tcountry CHAR(2)\n",
        "\t);\n",
        "\"\"\"\n",
        "\n",
        "df_1 = con.execute(query).fetchdf()"
      ]
    }
  ],
  "metadata": {
    "kernelspec": {
      "display_name": "Python 3.10.4 ('py')",
      "language": "python",
      "name": "python3"
    },
    "language_info": {
      "codemirror_mode": {
        "name": "ipython",
        "version": 3
      },
      "file_extension": ".py",
      "mimetype": "text/x-python",
      "name": "python",
      "nbconvert_exporter": "python",
      "pygments_lexer": "ipython3",
      "version": "3.10.4"
    },
    "orig_nbformat": 4,
    "vscode": {
      "interpreter": {
        "hash": "ca09a73babb3efff70dc4c8d9ed6e57daa2912896578fe63f022cbea8855a026"
      }
    },
    "colab": {
      "provenance": []
    }
  },
  "nbformat": 4,
  "nbformat_minor": 0
}